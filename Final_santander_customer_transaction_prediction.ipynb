{
  "nbformat": 4,
  "nbformat_minor": 0,
  "metadata": {
    "kernelspec": {
      "display_name": "Python 3",
      "language": "python",
      "name": "python3"
    },
    "language_info": {
      "name": "python",
      "version": "3.6.4",
      "mimetype": "text/x-python",
      "codemirror_mode": {
        "name": "ipython",
        "version": 3
      },
      "pygments_lexer": "ipython3",
      "nbconvert_exporter": "python",
      "file_extension": ".py"
    },
    "colab": {
      "name": "Final_santander-customer-transaction-prediction.ipynb",
      "provenance": [],
      "collapsed_sections": [],
      "include_colab_link": true
    },
    "accelerator": "GPU"
  },
  "cells": [
    {
      "cell_type": "markdown",
      "metadata": {
        "id": "view-in-github",
        "colab_type": "text"
      },
      "source": [
        "<a href=\"https://colab.research.google.com/github/shaleenswarup/Anamoly-detection-in-time-series-with-Keras/blob/master/Final_santander_customer_transaction_prediction.ipynb\" target=\"_parent\"><img src=\"https://colab.research.google.com/assets/colab-badge.svg\" alt=\"Open In Colab\"/></a>"
      ]
    },
    {
      "cell_type": "code",
      "metadata": {
        "_uuid": "8f2839f25d086af736a60e9eeb907d3b93b6e0e5",
        "_cell_guid": "b1076dfc-b9ad-4769-8c92-a6c4dae69d19",
        "trusted": true,
        "id": "flpJAQ98A7ix"
      },
      "source": [
        "# Data manipulation and set-up\n",
        "import numpy as np\n",
        "import pandas as pd\n",
        "\n",
        "# Visualisation\n",
        "import matplotlib.pyplot as plt\n",
        "import seaborn as sns\n",
        "sns.set(font_scale=1)\n",
        "\n",
        "# Modelling (including set-up & evaluation)\n",
        "from sklearn.model_selection import KFold, StratifiedKFold\n",
        "import lightgbm as lgb\n",
        "from sklearn.metrics import roc_auc_score\n",
        "\n",
        "# Ignore warnings\n",
        "import warnings\n",
        "warnings.simplefilter(action='ignore', category=FutureWarning)\n",
        "warnings.filterwarnings('ignore')"
      ],
      "execution_count": 1,
      "outputs": []
    },
    {
      "cell_type": "code",
      "metadata": {
        "colab": {
          "base_uri": "https://localhost:8080/"
        },
        "id": "ywy4P0S_BFyq",
        "outputId": "debbced9-4a6c-4a18-f7c2-e632d4327fdf"
      },
      "source": [
        "from google.colab import drive\n",
        "drive.mount('/content/drive')"
      ],
      "execution_count": 2,
      "outputs": [
        {
          "output_type": "stream",
          "text": [
            "Mounted at /content/drive\n"
          ],
          "name": "stdout"
        }
      ]
    },
    {
      "cell_type": "code",
      "metadata": {
        "colab": {
          "base_uri": "https://localhost:8080/"
        },
        "id": "IWxRYB4bBP4C",
        "outputId": "ccb4b09d-821e-4883-95d0-9e1cb00a4285"
      },
      "source": [
        "import zipfile\n",
        "!unzip '/content/drive/MyDrive/santander-customer-transaction-prediction (1).zip'"
      ],
      "execution_count": 3,
      "outputs": [
        {
          "output_type": "stream",
          "text": [
            "Archive:  /content/drive/MyDrive/santander-customer-transaction-prediction (1).zip\n",
            "  inflating: sample_submission.csv   \n",
            "  inflating: test.csv                \n",
            "  inflating: train.csv               \n"
          ],
          "name": "stdout"
        }
      ]
    },
    {
      "cell_type": "code",
      "metadata": {
        "trusted": true,
        "id": "ieXLTe8kA7i7"
      },
      "source": [
        "random_state = 42\n",
        "np.random.seed(random_state)\n",
        "train = pd.read_csv('train.csv')\n",
        "test = pd.read_csv('test.csv')"
      ],
      "execution_count": 4,
      "outputs": []
    },
    {
      "cell_type": "code",
      "metadata": {
        "trusted": true,
        "id": "eFPp-UoYA7i8"
      },
      "source": [
        "# Data augmentation\n",
        "def augment(x,y,t=2):\n",
        "    xs,xn = [],[]\n",
        "    for i in range(t):\n",
        "        mask = y>0\n",
        "        x1 = x[mask].copy()\n",
        "        ids = np.arange(x1.shape[0])\n",
        "        for c in range(x1.shape[1]):\n",
        "            np.random.shuffle(ids)\n",
        "            x1[:,c] = x1[ids][:,c]\n",
        "        xs.append(x1)\n",
        "\n",
        "    for i in range(t//2):\n",
        "        mask = y==0\n",
        "        x1 = x[mask].copy()\n",
        "        ids = np.arange(x1.shape[0])\n",
        "        for c in range(x1.shape[1]):\n",
        "            np.random.shuffle(ids)\n",
        "            x1[:,c] = x1[ids][:,c]\n",
        "        xn.append(x1)\n",
        "\n",
        "    xs = np.vstack(xs)\n",
        "    xn = np.vstack(xn)\n",
        "    ys = np.ones(xs.shape[0])\n",
        "    yn = np.zeros(xn.shape[0])\n",
        "    x = np.vstack([x,xs,xn])\n",
        "    y = np.concatenate([y,ys,yn])\n",
        "    return x,y"
      ],
      "execution_count": 5,
      "outputs": []
    },
    {
      "cell_type": "code",
      "metadata": {
        "trusted": true,
        "id": "SUU17m5SA7i8"
      },
      "source": [
        "# Model parameters\n",
        "lgb_params = {\n",
        "    \"objective\" : \"binary\",\n",
        "    \"metric\" : \"auc\",\n",
        "    \"boosting\": 'gbdt',\n",
        "    \"max_depth\" : -1,\n",
        "    \"num_leaves\" : 13,\n",
        "    \"learning_rate\" : 0.01,\n",
        "    \"bagging_freq\": 5,\n",
        "    \"bagging_fraction\" : 0.4,\n",
        "    \"feature_fraction\" : 0.05,\n",
        "    \"min_data_in_leaf\": 80,\n",
        "    \"min_sum_heassian_in_leaf\": 10,\n",
        "    \"tree_learner\": \"serial\",\n",
        "    \"boost_from_average\": \"false\",\n",
        "    \"bagging_seed\" : random_state,\n",
        "    \"verbosity\" : 1,\n",
        "    \"seed\": random_state}"
      ],
      "execution_count": 6,
      "outputs": []
    },
    {
      "cell_type": "code",
      "metadata": {
        "trusted": true,
        "id": "Sq9YELrBA7i9"
      },
      "source": [
        "skf = StratifiedKFold(n_splits=3, shuffle=True, random_state=random_state)\n",
        "oof = train[['ID_code', 'target']]\n",
        "oof['predict'] = 0\n",
        "predictions = test[['ID_code']]\n",
        "val_aucs = []\n",
        "feature_importance = pd.DataFrame()"
      ],
      "execution_count": 9,
      "outputs": []
    },
    {
      "cell_type": "code",
      "metadata": {
        "trusted": true,
        "id": "bI8mh4FJA7i-"
      },
      "source": [
        "features = [col for col in train.columns if col not in ['target', 'ID_code']]\n",
        "X_test = test[features].values"
      ],
      "execution_count": 10,
      "outputs": []
    },
    {
      "cell_type": "code",
      "metadata": {
        "trusted": true,
        "colab": {
          "base_uri": "https://localhost:8080/"
        },
        "id": "oyY3fac0A7i-",
        "outputId": "83f80410-5aec-4e7c-8699-fe906b397b09"
      },
      "source": [
        "for fold, (trn_idx, val_idx) in enumerate(skf.split(train, train['target'])):\n",
        "    X_train, y_train = train.iloc[trn_idx][features], train.iloc[trn_idx]['target']\n",
        "    X_valid, y_valid = train.iloc[val_idx][features], train.iloc[val_idx]['target']\n",
        "    \n",
        "    N = 1\n",
        "    p_valid,yp = 0,0\n",
        "    for i in range(N):\n",
        "        X_t, y_t = augment(X_train.values, y_train.values)\n",
        "        X_t = pd.DataFrame(X_t)\n",
        "        X_t = X_t.add_prefix('var_')\n",
        "    \n",
        "        trn_data = lgb.Dataset(X_t, label=y_t)\n",
        "        val_data = lgb.Dataset(X_valid, label=y_valid)\n",
        "        evals_result = {}\n",
        "        lgb_clf = lgb.train(lgb_params,\n",
        "                        trn_data,\n",
        "                        100000,\n",
        "                        valid_sets = [trn_data, val_data],\n",
        "                        early_stopping_rounds=3000,\n",
        "                        verbose_eval = 1000,\n",
        "                        evals_result=evals_result\n",
        "                       )\n",
        "        p_valid += lgb_clf.predict(X_valid)\n",
        "        yp += lgb_clf.predict(X_test)\n",
        "    fold_importance = pd.DataFrame()\n",
        "    fold_importance[\"feature\"] = features\n",
        "    fold_importance[\"importance\"] = lgb_clf.feature_importance()\n",
        "    fold_importance[\"fold\"] = fold + 1\n",
        "    feature_importance = pd.concat([feature_importance, fold_importance], axis=0)\n",
        "    oof['predict'][val_idx] = p_valid/N\n",
        "    val_score = roc_auc_score(y_valid, p_valid)\n",
        "    val_aucs.append(val_score)\n",
        "    \n",
        "    predictions['fold{}'.format(fold+1)] = yp/N"
      ],
      "execution_count": 11,
      "outputs": [
        {
          "output_type": "stream",
          "text": [
            "Training until validation scores don't improve for 3000 rounds.\n",
            "[1000]\ttraining's auc: 0.894165\tvalid_1's auc: 0.88466\n",
            "[2000]\ttraining's auc: 0.903138\tvalid_1's auc: 0.891325\n",
            "[3000]\ttraining's auc: 0.90962\tvalid_1's auc: 0.895626\n",
            "[4000]\ttraining's auc: 0.914559\tvalid_1's auc: 0.89834\n",
            "[5000]\ttraining's auc: 0.918562\tvalid_1's auc: 0.90017\n",
            "[6000]\ttraining's auc: 0.921861\tvalid_1's auc: 0.901043\n",
            "[7000]\ttraining's auc: 0.924774\tvalid_1's auc: 0.901595\n",
            "[8000]\ttraining's auc: 0.927456\tvalid_1's auc: 0.901939\n",
            "[9000]\ttraining's auc: 0.930051\tvalid_1's auc: 0.902109\n",
            "[10000]\ttraining's auc: 0.932508\tvalid_1's auc: 0.902072\n",
            "[11000]\ttraining's auc: 0.934931\tvalid_1's auc: 0.902022\n",
            "[12000]\ttraining's auc: 0.93725\tvalid_1's auc: 0.90191\n",
            "Early stopping, best iteration is:\n",
            "[9345]\ttraining's auc: 0.930913\tvalid_1's auc: 0.902176\n",
            "Training until validation scores don't improve for 3000 rounds.\n",
            "[1000]\ttraining's auc: 0.895974\tvalid_1's auc: 0.877753\n",
            "[2000]\ttraining's auc: 0.904992\tvalid_1's auc: 0.884795\n",
            "[3000]\ttraining's auc: 0.91136\tvalid_1's auc: 0.889249\n",
            "[4000]\ttraining's auc: 0.91627\tvalid_1's auc: 0.89218\n",
            "[5000]\ttraining's auc: 0.920232\tvalid_1's auc: 0.893974\n",
            "[6000]\ttraining's auc: 0.923478\tvalid_1's auc: 0.895019\n",
            "[7000]\ttraining's auc: 0.926365\tvalid_1's auc: 0.895664\n",
            "[8000]\ttraining's auc: 0.929074\tvalid_1's auc: 0.896141\n",
            "[9000]\ttraining's auc: 0.931643\tvalid_1's auc: 0.896289\n",
            "[10000]\ttraining's auc: 0.93408\tvalid_1's auc: 0.89632\n",
            "[11000]\ttraining's auc: 0.936453\tvalid_1's auc: 0.896306\n",
            "[12000]\ttraining's auc: 0.938792\tvalid_1's auc: 0.896349\n",
            "[13000]\ttraining's auc: 0.94105\tvalid_1's auc: 0.896184\n",
            "Early stopping, best iteration is:\n",
            "[10198]\ttraining's auc: 0.934546\tvalid_1's auc: 0.896372\n",
            "Training until validation scores don't improve for 3000 rounds.\n",
            "[1000]\ttraining's auc: 0.895458\tvalid_1's auc: 0.882087\n",
            "[2000]\ttraining's auc: 0.904519\tvalid_1's auc: 0.889401\n",
            "[3000]\ttraining's auc: 0.910997\tvalid_1's auc: 0.893981\n",
            "[4000]\ttraining's auc: 0.915945\tvalid_1's auc: 0.896967\n",
            "[5000]\ttraining's auc: 0.919849\tvalid_1's auc: 0.898749\n",
            "[6000]\ttraining's auc: 0.923067\tvalid_1's auc: 0.899713\n",
            "[7000]\ttraining's auc: 0.925903\tvalid_1's auc: 0.90026\n",
            "[8000]\ttraining's auc: 0.928573\tvalid_1's auc: 0.900473\n",
            "[9000]\ttraining's auc: 0.931113\tvalid_1's auc: 0.900653\n",
            "[10000]\ttraining's auc: 0.933551\tvalid_1's auc: 0.900709\n",
            "[11000]\ttraining's auc: 0.935943\tvalid_1's auc: 0.900768\n",
            "[12000]\ttraining's auc: 0.938284\tvalid_1's auc: 0.900729\n",
            "[13000]\ttraining's auc: 0.94054\tvalid_1's auc: 0.900672\n",
            "Early stopping, best iteration is:\n",
            "[10944]\ttraining's auc: 0.935803\tvalid_1's auc: 0.900786\n"
          ],
          "name": "stdout"
        }
      ]
    },
    {
      "cell_type": "code",
      "metadata": {
        "trusted": true,
        "id": "kEqSv4Z4A7i_"
      },
      "source": [
        "# Submission\n",
        "predictions['target'] = np.mean(predictions[[col for col in predictions.columns if col not in ['ID_code', 'target']]].values, axis=1)\n",
        "predictions.to_csv('lgb_all_predictions.csv', index=None)\n",
        "sub = pd.DataFrame({\"ID_code\":test[\"ID_code\"].values})\n",
        "sub[\"target\"] = predictions['target']\n",
        "sub.to_csv(\"lgb_submission.csv\", index=False)\n",
        "oof.to_csv('lgb_oof.csv', index=False)"
      ],
      "execution_count": 12,
      "outputs": []
    }
  ]
}